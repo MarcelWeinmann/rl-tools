{
 "cells": [
  {
   "cell_type": "code",
   "execution_count": null,
   "metadata": {},
   "outputs": [],
   "source": [
    "import os\n",
    "import json\n",
    "import matplotlib.pyplot as plt\n",
    "import numpy as np\n",
    "\n",
    "print(f\"Working directory: {os.getcwd()}\")\n",
    "experiment_path = \"experiments\\\\2024-11-04_12-09-36\\\\9fba3d9_dr-sac_algorithm_environment_zero-init\\\\sac_l2f_false\"\n",
    "print(f\"Loading returns from {experiment_path}\")\n",
    "\n",
    "returns = []\n",
    "for seed in sorted(os.listdir(experiment_path)):\n",
    "    return_path_set = os.path.join(experiment_path, seed, \"return.json.set\")\n",
    "    return_path = os.path.join(experiment_path, seed, \"return.json\")\n",
    "    if os.path.exists(return_path_set):\n",
    "        with open(return_path, \"r\") as f:\n",
    "            returns.append(json.load(f))\n",
    "print(f\"Loaded {len(returns)} returns\")"
   ]
  },
  {
   "cell_type": "code",
   "execution_count": null,
   "metadata": {},
   "outputs": [],
   "source": [
    "plt.hist([r[\"parameters\"][\"dynamics\"][\"mass\"] for r in returns])\n",
    "plt.ylabel(\"Count\")\n",
    "plt.xlabel(\"Mass [kg]\")\n",
    "plt.show()"
   ]
  },
  {
   "cell_type": "code",
   "execution_count": null,
   "metadata": {},
   "outputs": [],
   "source": [
    "thrusts = np.array([np.dot(r[\"parameters\"][\"dynamics\"][\"rotors\"][0][\"thrust_curve\"], [1, 1, 1]) for r in returns])\n",
    "weights = np.array([r[\"parameters\"][\"dynamics\"][\"mass\"] * 9.81 for r in returns])\n",
    "thrust_to_weight = thrusts * 4 / weights\n",
    "\n",
    "plt.hist(thrust_to_weight)\n",
    "plt.ylabel(\"Count\")\n",
    "plt.xlabel(\"Thrust to Weight Ratio\")\n",
    "plt.show()"
   ]
  },
  {
   "cell_type": "code",
   "execution_count": null,
   "metadata": {},
   "outputs": [],
   "source": [
    "inertia_xx = np.array([r[\"parameters\"][\"dynamics\"][\"J\"][0][0] for r in returns])\n",
    "plt.hist(inertia_xx)\n",
    "plt.ylabel(\"Count\")\n",
    "plt.xlabel(\"Inertia (xx) [kg*m^2]\")\n",
    "plt.show()"
   ]
  },
  {
   "cell_type": "code",
   "execution_count": null,
   "metadata": {},
   "outputs": [],
   "source": [
    "rotor_distances = np.array([np.linalg.norm(r[\"parameters\"][\"dynamics\"][\"rotors\"][0][\"pose\"][\"position\"]) for r in returns])\n",
    "\n",
    "plt.hist(rotor_distances * 2)\n",
    "plt.ylabel(\"Count\")\n",
    "plt.xlabel(\"Diameter [m]\")\n",
    "plt.show()"
   ]
  },
  {
   "cell_type": "code",
   "execution_count": null,
   "metadata": {},
   "outputs": [],
   "source": [
    "max_episode_lengths = [max([max(step[\"episode_length\"]) for step in r[\"evaluation\"]]) for r in returns]\n",
    "\n",
    "plt.hist(max_episode_lengths)\n",
    "plt.ylabel(\"Count\")\n",
    "plt.xlabel(\"Max Episode Lengths [steps]\")\n",
    "plt.show()"
   ]
  }
 ],
 "metadata": {
  "kernelspec": {
   "display_name": ".venv",
   "language": "python",
   "name": "python3"
  },
  "language_info": {
   "codemirror_mode": {
    "name": "ipython",
    "version": 3
   },
   "file_extension": ".py",
   "mimetype": "text/x-python",
   "name": "python",
   "nbconvert_exporter": "python",
   "pygments_lexer": "ipython3",
   "version": "3.13.0"
  }
 },
 "nbformat": 4,
 "nbformat_minor": 2
}
